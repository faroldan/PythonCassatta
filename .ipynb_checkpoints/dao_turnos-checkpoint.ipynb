{
 "cells": [
  {
   "cell_type": "code",
   "execution_count": 1,
   "metadata": {},
   "outputs": [
    {
     "name": "stdout",
     "output_type": "stream",
     "text": [
      "entering headquarters config\n",
      "finished config for headquarters\n",
      "entering healthrelations config\n",
      "finished config for healthrealations\n",
      "entering doctors config\n",
      "finished config for doctors\n",
      "entering specialities config\n",
      "finished config for specialities\n",
      "entering parameters config\n",
      "finished config for parameters\n",
      "entering parameters config\n",
      "finished config for parameters\n",
      "starting\n",
      "finished connection\n"
     ]
    }
   ],
   "source": [
    "from dao import VentaDAO"
   ]
  },
  {
   "cell_type": "code",
   "execution_count": 2,
   "metadata": {},
   "outputs": [
    {
     "name": "stdout",
     "output_type": "stream",
     "text": [
      "Tenemos las siguientes especialidades: CLINICA MEDICA, ALERGIA E INMUNOLOGIA, ENDOCRINOLOGIA, DERMATOLOGIA, DIABETES, \n"
     ]
    }
   ],
   "source": [
    "data = HospitalDAO()\n",
    "esps = data.get_medical_specialities(heq_id=2)\n",
    "response = \"Tenemos las siguientes especialidades: \"\n",
    "\n",
    "for e in esps:\n",
    "    response += e[1]+\", \"\n",
    "\n",
    "print(response)\n"
   ]
  },
  {
   "cell_type": "code",
   "execution_count": 3,
   "metadata": {},
   "outputs": [],
   "source": [
    "doctors = data.get_doctors(heq_id=2)\n",
    "specialities = data.get_medical_specialities()"
   ]
  },
  {
   "cell_type": "code",
   "execution_count": 4,
   "metadata": {},
   "outputs": [
    {
     "data": {
      "text/plain": [
       "[(Decimal('1'), 'Chamale', 'Oscar Elías', Decimal('1')),\n",
       " (Decimal('2'), 'Lozano', 'Alejandro', Decimal('2')),\n",
       " (Decimal('4'), 'Bertolino', 'María Lorena', Decimal('3')),\n",
       " (Decimal('5'), 'Consigli', 'Nicolas Ernesto', Decimal('4')),\n",
       " (Decimal('7'), 'Bartolacci', 'Inés', Decimal('6')),\n",
       " (Decimal('8'), 'Majul', 'Enrique', Decimal('6'))]"
      ]
     },
     "execution_count": 4,
     "metadata": {},
     "output_type": "execute_result"
    }
   ],
   "source": [
    "doctors"
   ]
  },
  {
   "cell_type": "code",
   "execution_count": 7,
   "metadata": {},
   "outputs": [
    {
     "data": {
      "text/plain": [
       "[(Decimal('1'), 'CLINICA MEDICA', Decimal('1')),\n",
       " (Decimal('2'), 'ALERGIA E INMUNOLOGIA', Decimal('1')),\n",
       " (Decimal('3'), 'ENDOCRINOLOGIA', Decimal('1')),\n",
       " (Decimal('4'), 'DERMATOLOGIA', Decimal('1')),\n",
       " (Decimal('5'), 'SALUD MENTAL', Decimal('1')),\n",
       " (Decimal('6'), 'DIABETES', Decimal('1')),\n",
       " (Decimal('7'), 'Alergia e Inmunología', Decimal('2')),\n",
       " (Decimal('8'), 'Anatomía Patológica', Decimal('2')),\n",
       " (Decimal('9'), 'Anestesiología', Decimal('2')),\n",
       " (Decimal('10'), 'Cardiología', Decimal('2')),\n",
       " (Decimal('11'), 'Cirugía Cardíaca', Decimal('2'))]"
      ]
     },
     "execution_count": 7,
     "metadata": {},
     "output_type": "execute_result"
    }
   ],
   "source": [
    "specialities"
   ]
  },
  {
   "cell_type": "code",
   "execution_count": 8,
   "metadata": {},
   "outputs": [],
   "source": [
    "suc = data.get_headquarters(heq_id=1)"
   ]
  },
  {
   "cell_type": "code",
   "execution_count": 9,
   "metadata": {},
   "outputs": [
    {
     "data": {
      "text/plain": [
       "[(Decimal('1'), 'Sede Central', 'Oncativo Nº1248 Bº General Paz', 'Córdoba', 'Argentina', Decimal('1'))]"
      ]
     },
     "execution_count": 9,
     "metadata": {},
     "output_type": "execute_result"
    }
   ],
   "source": [
    "suc"
   ]
  },
  {
   "cell_type": "code",
   "execution_count": null,
   "metadata": {},
   "outputs": [],
   "source": []
  }
 ],
 "metadata": {
  "kernelspec": {
   "display_name": "Python 3 (ipykernel)",
   "language": "python",
   "name": "python3"
  },
  "language_info": {
   "codemirror_mode": {
    "name": "ipython",
    "version": 3
   },
   "file_extension": ".py",
   "mimetype": "text/x-python",
   "name": "python",
   "nbconvert_exporter": "python",
   "pygments_lexer": "ipython3",
   "version": "3.8.11"
  }
 },
 "nbformat": 4,
 "nbformat_minor": 2
}
