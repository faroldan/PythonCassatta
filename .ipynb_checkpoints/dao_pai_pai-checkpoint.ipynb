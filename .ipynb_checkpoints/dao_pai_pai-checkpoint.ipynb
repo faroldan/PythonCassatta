{
 "cells": [
  {
   "cell_type": "code",
   "execution_count": 1,
   "metadata": {},
   "outputs": [
    {
     "ename": "IndentationError",
     "evalue": "unexpected indent (productos.py, line 24)",
     "output_type": "error",
     "traceback": [
      "Traceback \u001b[0;36m(most recent call last)\u001b[0m:\n",
      "  File \u001b[1;32m\"/usr/lib/python3/dist-packages/IPython/core/interactiveshell.py\"\u001b[0m, line \u001b[1;32m3331\u001b[0m, in \u001b[1;35mrun_code\u001b[0m\n    exec(code_obj, self.user_global_ns, self.user_ns)\n",
      "  File \u001b[1;32m\"<ipython-input-1-071c2f7303c4>\"\u001b[0m, line \u001b[1;32m1\u001b[0m, in \u001b[1;35m<module>\u001b[0m\n    from dao import VentaDAO\n",
      "\u001b[0;36m  File \u001b[0;32m\"/home/franco/Documentos/Cassatta/PythonCassatta/dao.py\"\u001b[0;36m, line \u001b[0;32m11\u001b[0;36m, in \u001b[0;35m<module>\u001b[0;36m\u001b[0m\n\u001b[0;31m    from db_models.productos import Productos\u001b[0m\n",
      "\u001b[0;36m  File \u001b[0;32m\"/home/franco/Documentos/Cassatta/PythonCassatta/db_models/productos.py\"\u001b[0;36m, line \u001b[0;32m24\u001b[0m\n\u001b[0;31m    @classmethod\u001b[0m\n\u001b[0m    ^\u001b[0m\n\u001b[0;31mIndentationError\u001b[0m\u001b[0;31m:\u001b[0m unexpected indent\n"
     ]
    }
   ],
   "source": [
    "from dao import VentaDAO"
   ]
  },
  {
   "cell_type": "code",
   "execution_count": 2,
   "metadata": {},
   "outputs": [
    {
     "name": "stdout",
     "output_type": "stream",
     "text": [
      "Tenemos las siguientes especialidades: CLINICA MEDICA, ALERGIA E INMUNOLOGIA, ENDOCRINOLOGIA, DERMATOLOGIA, DIABETES, \n"
     ]
    }
   ],
   "source": [
    "data = HospitalDAO()\n",
    "esps = data.get_medical_specialities(heq_id=2)\n",
    "response = \"Tenemos las siguientes especialidades: \"\n",
    "\n",
    "for e in esps:\n",
    "    response += e[1]+\", \"\n",
    "\n",
    "print(response)\n"
   ]
  },
  {
   "cell_type": "code",
   "execution_count": 3,
   "metadata": {},
   "outputs": [],
   "source": [
    "doctors = data.get_doctors(heq_id=2)\n",
    "specialities = data.get_medical_specialities()"
   ]
  },
  {
   "cell_type": "code",
   "execution_count": 4,
   "metadata": {},
   "outputs": [
    {
     "data": {
      "text/plain": [
       "[(Decimal('1'), 'Chamale', 'Oscar Elías', Decimal('1')),\n",
       " (Decimal('2'), 'Lozano', 'Alejandro', Decimal('2')),\n",
       " (Decimal('4'), 'Bertolino', 'María Lorena', Decimal('3')),\n",
       " (Decimal('5'), 'Consigli', 'Nicolas Ernesto', Decimal('4')),\n",
       " (Decimal('7'), 'Bartolacci', 'Inés', Decimal('6')),\n",
       " (Decimal('8'), 'Majul', 'Enrique', Decimal('6'))]"
      ]
     },
     "execution_count": 4,
     "metadata": {},
     "output_type": "execute_result"
    }
   ],
   "source": [
    "doctors"
   ]
  },
  {
   "cell_type": "code",
   "execution_count": 7,
   "metadata": {},
   "outputs": [
    {
     "data": {
      "text/plain": [
       "[(Decimal('1'), 'CLINICA MEDICA', Decimal('1')),\n",
       " (Decimal('2'), 'ALERGIA E INMUNOLOGIA', Decimal('1')),\n",
       " (Decimal('3'), 'ENDOCRINOLOGIA', Decimal('1')),\n",
       " (Decimal('4'), 'DERMATOLOGIA', Decimal('1')),\n",
       " (Decimal('5'), 'SALUD MENTAL', Decimal('1')),\n",
       " (Decimal('6'), 'DIABETES', Decimal('1')),\n",
       " (Decimal('7'), 'Alergia e Inmunología', Decimal('2')),\n",
       " (Decimal('8'), 'Anatomía Patológica', Decimal('2')),\n",
       " (Decimal('9'), 'Anestesiología', Decimal('2')),\n",
       " (Decimal('10'), 'Cardiología', Decimal('2')),\n",
       " (Decimal('11'), 'Cirugía Cardíaca', Decimal('2'))]"
      ]
     },
     "execution_count": 7,
     "metadata": {},
     "output_type": "execute_result"
    }
   ],
   "source": [
    "specialities"
   ]
  },
  {
   "cell_type": "code",
   "execution_count": 8,
   "metadata": {},
   "outputs": [],
   "source": [
    "suc = data.get_headquarters(heq_id=1)"
   ]
  },
  {
   "cell_type": "code",
   "execution_count": 9,
   "metadata": {},
   "outputs": [
    {
     "data": {
      "text/plain": [
       "[(Decimal('1'), 'Sede Central', 'Oncativo Nº1248 Bº General Paz', 'Córdoba', 'Argentina', Decimal('1'))]"
      ]
     },
     "execution_count": 9,
     "metadata": {},
     "output_type": "execute_result"
    }
   ],
   "source": [
    "suc"
   ]
  },
  {
   "cell_type": "code",
   "execution_count": null,
   "metadata": {},
   "outputs": [],
   "source": []
  }
 ],
 "metadata": {
  "kernelspec": {
   "display_name": "Python 3",
   "language": "python",
   "name": "python3"
  },
  "language_info": {
   "codemirror_mode": {
    "name": "ipython",
    "version": 3
   },
   "file_extension": ".py",
   "mimetype": "text/x-python",
   "name": "python",
   "nbconvert_exporter": "python",
   "pygments_lexer": "ipython3",
   "version": "3.8.10"
  }
 },
 "nbformat": 4,
 "nbformat_minor": 2
}
