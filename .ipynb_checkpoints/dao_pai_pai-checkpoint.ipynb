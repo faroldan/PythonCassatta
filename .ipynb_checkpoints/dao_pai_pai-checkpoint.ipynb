{
 "cells": [
  {
   "cell_type": "code",
   "execution_count": 18,
   "metadata": {},
   "outputs": [],
   "source": [
    "from dao import VentaDAO\n",
    "data = VentaDAO()"
   ]
  },
  {
   "cell_type": "code",
   "execution_count": 19,
   "metadata": {},
   "outputs": [
    {
     "name": "stdout",
     "output_type": "stream",
     "text": [
      "Tenemos los siguientes productos vendidos: \n"
     ]
    }
   ],
   "source": [
    "\n",
    "prods = data.get_ventas_detalles()\n",
    "response = \"Tenemos los siguientes productos vendidos: \"\n",
    "\n",
    "#for e in prods:\n",
    " #   response += e[1]+\", \"\n",
    "\n",
    "print(response)\n"
   ]
  },
  {
   "cell_type": "code",
   "execution_count": 23,
   "metadata": {},
   "outputs": [
    {
     "ename": "AttributeError",
     "evalue": "'VentaDAO' object has no attribute 'catalogo_productos'",
     "output_type": "error",
     "traceback": [
      "\u001b[1;31m---------------------------------------------------------------------------\u001b[0m",
      "\u001b[1;31mAttributeError\u001b[0m                            Traceback (most recent call last)",
      "\u001b[1;32m~\\AppData\\Local\\Temp/ipykernel_13116/1386394128.py\u001b[0m in \u001b[0;36m<module>\u001b[1;34m\u001b[0m\n\u001b[1;32m----> 1\u001b[1;33m \u001b[0mlistado\u001b[0m \u001b[1;33m=\u001b[0m \u001b[0mVentaDAO\u001b[0m\u001b[1;33m(\u001b[0m\u001b[1;33m)\u001b[0m\u001b[1;33m.\u001b[0m\u001b[0mcatalogo_productos\u001b[0m\u001b[1;33m(\u001b[0m\u001b[1;33m)\u001b[0m\u001b[1;33m\u001b[0m\u001b[1;33m\u001b[0m\u001b[0m\n\u001b[0m\u001b[0;32m      2\u001b[0m \u001b[0mprint\u001b[0m\u001b[1;33m(\u001b[0m\u001b[0mlistado\u001b[0m\u001b[1;33m)\u001b[0m\u001b[1;33m\u001b[0m\u001b[1;33m\u001b[0m\u001b[0m\n",
      "\u001b[1;31mAttributeError\u001b[0m: 'VentaDAO' object has no attribute 'catalogo_productos'"
     ]
    }
   ],
   "source": [
    "listado = data.catalogo_productos()\n",
    "print(listado)"
   ]
  },
  {
   "cell_type": "code",
   "execution_count": 4,
   "metadata": {},
   "outputs": [
    {
     "data": {
      "text/plain": [
       "[(Decimal('1'), 'Chamale', 'Oscar Elías', Decimal('1')),\n",
       " (Decimal('2'), 'Lozano', 'Alejandro', Decimal('2')),\n",
       " (Decimal('4'), 'Bertolino', 'María Lorena', Decimal('3')),\n",
       " (Decimal('5'), 'Consigli', 'Nicolas Ernesto', Decimal('4')),\n",
       " (Decimal('7'), 'Bartolacci', 'Inés', Decimal('6')),\n",
       " (Decimal('8'), 'Majul', 'Enrique', Decimal('6'))]"
      ]
     },
     "execution_count": 4,
     "metadata": {},
     "output_type": "execute_result"
    }
   ],
   "source": [
    "doctors"
   ]
  },
  {
   "cell_type": "code",
   "execution_count": 7,
   "metadata": {},
   "outputs": [
    {
     "data": {
      "text/plain": [
       "[(Decimal('1'), 'CLINICA MEDICA', Decimal('1')),\n",
       " (Decimal('2'), 'ALERGIA E INMUNOLOGIA', Decimal('1')),\n",
       " (Decimal('3'), 'ENDOCRINOLOGIA', Decimal('1')),\n",
       " (Decimal('4'), 'DERMATOLOGIA', Decimal('1')),\n",
       " (Decimal('5'), 'SALUD MENTAL', Decimal('1')),\n",
       " (Decimal('6'), 'DIABETES', Decimal('1')),\n",
       " (Decimal('7'), 'Alergia e Inmunología', Decimal('2')),\n",
       " (Decimal('8'), 'Anatomía Patológica', Decimal('2')),\n",
       " (Decimal('9'), 'Anestesiología', Decimal('2')),\n",
       " (Decimal('10'), 'Cardiología', Decimal('2')),\n",
       " (Decimal('11'), 'Cirugía Cardíaca', Decimal('2'))]"
      ]
     },
     "execution_count": 7,
     "metadata": {},
     "output_type": "execute_result"
    }
   ],
   "source": [
    "specialities"
   ]
  },
  {
   "cell_type": "code",
   "execution_count": 8,
   "metadata": {},
   "outputs": [],
   "source": [
    "suc = data.get_headquarters(heq_id=1)"
   ]
  },
  {
   "cell_type": "code",
   "execution_count": 9,
   "metadata": {},
   "outputs": [
    {
     "data": {
      "text/plain": [
       "[(Decimal('1'), 'Sede Central', 'Oncativo Nº1248 Bº General Paz', 'Córdoba', 'Argentina', Decimal('1'))]"
      ]
     },
     "execution_count": 9,
     "metadata": {},
     "output_type": "execute_result"
    }
   ],
   "source": [
    "suc"
   ]
  },
  {
   "cell_type": "code",
   "execution_count": null,
   "metadata": {},
   "outputs": [],
   "source": []
  }
 ],
 "metadata": {
  "kernelspec": {
   "display_name": "Python 3 (ipykernel)",
   "language": "python",
   "name": "python3"
  },
  "language_info": {
   "codemirror_mode": {
    "name": "ipython",
    "version": 3
   },
   "file_extension": ".py",
   "mimetype": "text/x-python",
   "name": "python",
   "nbconvert_exporter": "python",
   "pygments_lexer": "ipython3",
   "version": "3.8.11"
  }
 },
 "nbformat": 4,
 "nbformat_minor": 2
}
